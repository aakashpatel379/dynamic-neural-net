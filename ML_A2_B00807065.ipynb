{
 "cells": [
  {
   "cell_type": "markdown",
   "metadata": {},
   "source": [
    "### Machine Learning - CSCI 6505\n",
    "#### Assignment 2\n",
    "#### Submitted by: Aakash Patel - B00807065"
   ]
  },
  {
   "cell_type": "code",
   "execution_count": 194,
   "metadata": {},
   "outputs": [],
   "source": [
    "import numpy as np\n",
    "import matplotlib.pyplot as plt"
   ]
  },
  {
   "cell_type": "markdown",
   "metadata": {},
   "source": [
    "[Circular Gaussian](https://stackoverflow.com/questions/52455356/how-can-i-make-ring-from-gaussian-distribution)\n",
    "[Generating 2D gaussian](https://stackoverflow.com/questions/7687679/how-to-generate-2d-gaussian-with-python)\n"
   ]
  },
  {
   "cell_type": "markdown",
   "metadata": {},
   "source": [
    "#### Q 1 a) Option 3 and Q1 b)"
   ]
  },
  {
   "cell_type": "code",
   "execution_count": 195,
   "metadata": {},
   "outputs": [],
   "source": [
    "import pandas as pd\n",
    "import math\n",
    "import random\n",
    "\n",
    "# Generate projections of the coordinates\n",
    "def calc_projections(xy, n, noise):\n",
    "    projection_list = []\n",
    "    for z in xy:\n",
    "        z = np.array(z)\n",
    "        proj =(z / 10) +  (0.25*(n+1))*( z / np.linalg.norm(z))\n",
    "        projection_list.append( proj )  \n",
    "    \n",
    "    if(noise==0):\n",
    "        return projection_list\n",
    "    else:\n",
    "        count = math.floor(len(projection_list) * (0.1*noise))\n",
    "        upd_projections=[]\n",
    "    \n",
    "        for i in range(len(projection_list)):\n",
    "            if(count!=0):\n",
    "                proj = projection_list[i]\n",
    "                proj[0] = random.uniform(0, proj[0] )\n",
    "                proj[1] = random.uniform(0, proj[1] )\n",
    "                upd_projections.append(proj)\n",
    "                count= count -1\n",
    "                \n",
    "            else:\n",
    "                upd_projections.append(projection_list[i])\n",
    "                \n",
    "        return upd_projections\n",
    "\n",
    "def generateData(numExamples, distributionShape, numClasses = 2, numOutputs=2, noise=0):\n",
    "    \n",
    "    if(numClasses!=numOutputs):\n",
    "        if(not(numClasses==2 and numOutputs==1)):\n",
    "            print(\"Number of Classes must be equal to number of outputs! Returning blank..!\")\n",
    "            return None\n",
    "            \n",
    "    dataset=None\n",
    "    \n",
    "    if distributionShape==\"c\":\n",
    "        mean = [0, 0]\n",
    "        cov = [[0.5,0],[0,0.5]]\n",
    "        plt.figure(figsize=(10,10))\n",
    "        perclassEx = math.ceil(numExamples/numClasses)\n",
    "        all_data=[]\n",
    "        for n in range(numClasses):\n",
    "            x, y = np.random.multivariate_normal(mean, cov, perclassEx).T\n",
    "            xy = zip(x, y)\n",
    "            projections = calc_projections(xy, n, noise)\n",
    "            all_data.append(np.vstack(projections))\n",
    "            # Unzip information\n",
    "            zx, zy = zip(*projections)\n",
    "            plt.plot(zx, zy, 'o')\n",
    "        \n",
    "    elif distributionShape==\"g\":\n",
    "        perclassEx = math.ceil(numExamples/numClasses)\n",
    "        plt.figure(figsize=(10,10))\n",
    "        randomness=0.6+noise\n",
    "        all_data=[]\n",
    "        if (numClasses==2):\n",
    "            d1 = np.random.multivariate_normal([-2, -2], [[randomness, 0],[0, randomness]], perclassEx) \n",
    "            d2 = np.random.multivariate_normal([1, 1], [[randomness, 0],[0, randomness]], perclassEx)\n",
    "            all_data.append(d1)\n",
    "            all_data.append(d2)\n",
    "        else:\n",
    "            mean_coord = -2\n",
    "            for i in range(numClasses):\n",
    "                X = np.random.multivariate_normal([ mean_coord, mean_coord], [[randomness, 0],[0, randomness]], perclassEx)\n",
    "                mean_coord+=3\n",
    "                all_data.append(X)\n",
    "        \n",
    "        for i in range(len(all_data)):\n",
    "            P=all_data[i]\n",
    "            plt.plot(P[:, 0], P[:, 1], 'o')\n",
    "    else:\n",
    "        print(\"Only two distribution shapes allowed: 'circles', 'twoClusters'. Try again.\")\n",
    "        return None\n",
    "       \n",
    "    if(numClasses!=numOutputs):\n",
    "        class_0 = np.zeros(perclassEx , dtype=int)\n",
    "        class_1 = np.ones(perclassEx, dtype=int)\n",
    "        d1 = np.insert(all_data[0], 2, class_0, axis=1)\n",
    "        d2 = np.insert(all_data[1], 2, class_1, axis=1)\n",
    "        dataset = np.concatenate((d1,d2), axis=0)\n",
    "        return dataset\n",
    "        \n",
    "    else:    \n",
    "        out_matrix_list=[]    \n",
    "        for i in range(numOutputs):\n",
    "            class_matrix = np.zeros((perclassEx,numOutputs), dtype=int)\n",
    "            class_matrix[:,[i]]=class_matrix[:,[i]]+1\n",
    "            out_matrix_list.append(class_matrix)\n",
    "            \n",
    "        final_y =out_matrix_list[0] \n",
    "        for i in range(len(out_matrix_list)):\n",
    "            if i!=0:\n",
    "                temp = np.concatenate((final_y, out_matrix_list[i]), axis=0)\n",
    "                final_y =temp\n",
    "\n",
    "        final_x =all_data[0]\n",
    "        for i in range(len(all_data)):\n",
    "            if i!=0:\n",
    "                temp =np.concatenate((final_x, all_data[i]), axis=0) \n",
    "                final_x=temp\n",
    "            \n",
    "        dataset=np.concatenate((final_x,final_y), axis=1)        \n",
    "        return dataset\n",
    "        "
   ]
  },
  {
   "cell_type": "markdown",
   "metadata": {},
   "source": [
    "#### Sample Output without Noise"
   ]
  },
  {
   "cell_type": "code",
   "execution_count": 487,
   "metadata": {},
   "outputs": [
    {
     "data": {
      "image/png": "[encoded data removed]",
      "text/plain": [
       "<Figure size 720x720 with 1 Axes>"
      ]
     },
     "metadata": {
      "needs_background": "light"
     },
     "output_type": "display_data"
    },
    {
     "data": {
      "image/png": "[encoded data removed]",
      "text/plain": [
       "<Figure size 720x720 with 1 Axes>"
      ]
     },
     "metadata": {
      "needs_background": "light"
     },
     "output_type": "display_data"
    }
   ],
   "source": [
    "X = generateData(700, 'c',numClasses=2 , numOutputs=1, noise=0)\n",
    "X = generateData(700, 'g',numClasses=2 , numOutputs=1, noise=0)"
   ]
  },
  {
   "cell_type": "markdown",
   "metadata": {},
   "source": [
    "#### Sample Output with Noise"
   ]
  },
  {
   "cell_type": "code",
   "execution_count": 483,
   "metadata": {},
   "outputs": [
    {
     "data": {
      "image/png": "[encoded data removed]",
      "text/plain": [
       "<Figure size 720x720 with 1 Axes>"
      ]
     },
     "metadata": {
      "needs_background": "light"
     },
     "output_type": "display_data"
    },
    {
     "data": {
      "image/png": "[encoded data removed]",
      "text/plain": [
       "<Figure size 720x720 with 1 Axes>"
      ]
     },
     "metadata": {
      "needs_background": "light"
     },
     "output_type": "display_data"
    }
   ],
   "source": [
    "X = generateData(700, 'c',numClasses=4 , numOutputs=4, noise=0.5)\n",
    "X = generateData(700, 'g',numClasses=4 , numOutputs=4, noise=0.5)"
   ]
  },
  {
   "cell_type": "markdown",
   "metadata": {},
   "source": [
    "[Exponent Normalized Link](https://timvieira.github.io/blog/post/2014/02/11/exp-normalize-trick/)\n",
    "[Implementing Softmax in Python](https://stackoverflow.com/questions/34968722/how-to-implement-the-softmax-function-in-python)\n",
    "[ML Cheatsheet](https://ml-cheatsheet.readthedocs.io/en/latest/loss_functions.html)"
   ]
  },
  {
   "cell_type": "markdown",
   "metadata": {},
   "source": [
    "#### Functions for Neural Net"
   ]
  },
  {
   "cell_type": "code",
   "execution_count": 380,
   "metadata": {},
   "outputs": [],
   "source": [
    "def sigmoid(x):\n",
    "    if x >= 0:\n",
    "        z = np.exp(-x)\n",
    "        return 1 / (1 + z)\n",
    "    else:\n",
    "        z = np.exp(x)\n",
    "        return z / (1 + z)\n",
    "    \n",
    "def softmax(z):\n",
    "    s = np.max(z, axis=1)\n",
    "    s = s[:, np.newaxis] # necessary step to do broadcasting\n",
    "    e_x = np.exp(z - s)\n",
    "    div = np.sum(e_x, axis=1)\n",
    "    div = div[:, np.newaxis] \n",
    "    return e_x / div\n",
    "\n",
    "def cross_entropy(yHat, t):\n",
    "    if t == 1:\n",
    "      return -np.log(yHat)\n",
    "    else:\n",
    "      return -np.log(1 - yHat)\n",
    "    \n",
    "def apply_activation(activationType, p, q):\n",
    "    if activationType==\"linear\" or activationType==\"L\":\n",
    "        x= np.dot(p,q)\n",
    "        return x\n",
    "    \n",
    "    elif activationType==\"sigmoid\" or activationType==\"S\":\n",
    "        x= np.dot(p,q)\n",
    "        vf=np.vectorize(sigmoid)\n",
    "        ans=vf(x)\n",
    "        return ans\n",
    "    \n",
    "    elif activationType==\"reLU\" or activationType=='R':\n",
    "        x= np.dot(p,q)\n",
    "        ans = np.maximum(x, 0)\n",
    "        return ans\n",
    "    \n",
    "    elif activationType==\"softmax\":\n",
    "        x=np.dot(p,q)\n",
    "        ans = softmax(x)\n",
    "        return ans\n",
    "\n",
    "def find_derivative(activationType, val):\n",
    "    derivative=None\n",
    "    if activationType==\"linear\" or activationType==\"L\":\n",
    "        derivative=1\n",
    "    \n",
    "    elif activationType==\"sigmoid\" or activationType==\"S\":\n",
    "        derivative = val * (1-val)\n",
    "    \n",
    "    elif activationType==\"reLU\" or activationType=='R':\n",
    "        return np.where(val <= 0, 0, 1)\n",
    "    \n",
    "    elif activationType==\"softmax\":\n",
    "        derivative = e_x / e_x.sum()\n",
    "    \n",
    "    return derivative"
   ]
  },
  {
   "cell_type": "markdown",
   "metadata": {},
   "source": [
    "#### Q 1 d) Feed Forward Neural Net"
   ]
  },
  {
   "cell_type": "code",
   "execution_count": 451,
   "metadata": {},
   "outputs": [],
   "source": [
    "def train( X, numInput, numHiddenUnits, numOutput, activationType, numIter):\n",
    "    \n",
    "    X_input = X[:, :numInput]\n",
    "    b = np.ones(len(X_input))\n",
    "    X_input = np.insert(X_input, numInput, b, axis=1)\n",
    "    t = X[:, numInput:]\n",
    "    labelshape= t.shape\n",
    "    \n",
    "    if(labelshape[1]!=numOutput):\n",
    "        print(\"Num of output doesn't match number of labels provided. \")\n",
    "        return None,None\n",
    "    \n",
    "    W1 = 2*np.random.random((numInput+1,numHiddenUnits)) -1\n",
    "    W2 = 2*np.random.random((numHiddenUnits, numOutput)) -1\n",
    "    \n",
    "    costs=[]\n",
    "    accuracies=[]\n",
    "\n",
    "    for j in range(numIter):\n",
    "        \n",
    "        h = apply_activation( activationType , X_input, W1)\n",
    "        if numOutput==1:\n",
    "            y = apply_activation(\"sigmoid\", h, W2)        \n",
    "        elif(numOutput>1):\n",
    "            y = apply_activation(\"softmax\", h, W2)\n",
    "    \n",
    "        if(numOutput==1):\n",
    "            cost = np.sum((0.5)* np.square(np.subtract(y,t)), axis=0)\n",
    "            costs.append(cost)\n",
    "            y_pred = np.rint(y)\n",
    "            correct=0\n",
    "            for i in range(len(t)):\n",
    "                if(t[i]==y_pred[i]):\n",
    "                    correct+=1\n",
    "            accuracy = (correct/len(t)) *100\n",
    "            accuracies.append( accuracy )        \n",
    "            if( j%100==0 ):\n",
    "                print(\"Cost: \",cost, \"Accuracy: \",accuracy)   \n",
    "        \n",
    "\n",
    "        y_delta = (t - y)* find_derivative(activationType, y)\n",
    "        h_delta = np.dot(y_delta, W2.T) * find_derivative(activationType, h)\n",
    "        alpha=1e-04\n",
    "        W2 += alpha * np.dot(h.T, y_delta)\n",
    "        W1 += alpha * np.dot(X_input.T, h_delta)\n",
    "        \n",
    "    return W1,W2   "
   ]
  },
  {
   "cell_type": "markdown",
   "metadata": {},
   "source": [
    "#### Random Data Generation for arbitrary input"
   ]
  },
  {
   "cell_type": "code",
   "execution_count": 478,
   "metadata": {},
   "outputs": [],
   "source": [
    "import random\n",
    "all_data=[]\n",
    "for i in range(1000):\n",
    "    t=[]\n",
    "    sum=0\n",
    "    for j in range(3):\n",
    "        x= random.randint(0, 100)\n",
    "        sum+=x\n",
    "        t.append(x)\n",
    "    t.append(sum%2)\n",
    "    all_data.append(t)\n",
    "    "
   ]
  },
  {
   "cell_type": "code",
   "execution_count": 479,
   "metadata": {},
   "outputs": [
    {
     "data": {
      "text/plain": [
       "array([[82, 58, 45,  1],\n",
       "       [46, 43, 95,  0],\n",
       "       [27, 91, 51,  1],\n",
       "       [25, 47, 76,  0],\n",
       "       [ 2, 70, 54,  0]])"
      ]
     },
     "execution_count": 479,
     "metadata": {},
     "output_type": "execute_result"
    }
   ],
   "source": [
    "X1=np.array(all_data)\n",
    "X1[:5]"
   ]
  },
  {
   "cell_type": "code",
   "execution_count": 481,
   "metadata": {
    "scrolled": true
   },
   "outputs": [
    {
     "name": "stdout",
     "output_type": "stream",
     "text": [
      "Cost:  [258.01280975] Accuracy:  47.5\n",
      "Cost:  [124.83361482] Accuracy:  50.5\n",
      "Cost:  [124.7978854] Accuracy:  50.3\n",
      "Cost:  [124.75037471] Accuracy:  50.4\n",
      "Cost:  [124.73293859] Accuracy:  50.4\n",
      "Cost:  [124.72756327] Accuracy:  50.3\n",
      "Cost:  [124.71730781] Accuracy:  50.4\n",
      "Cost:  [124.7179746] Accuracy:  50.3\n",
      "Cost:  [124.7170311] Accuracy:  50.3\n",
      "Cost:  [124.71765156] Accuracy:  50.4\n",
      "Cost:  [124.71688481] Accuracy:  50.4\n",
      "Cost:  [124.71682302] Accuracy:  50.4\n",
      "Cost:  [124.71665464] Accuracy:  50.7\n",
      "Cost:  [124.71656535] Accuracy:  50.5\n",
      "Cost:  [124.71664701] Accuracy:  50.5\n",
      "Cost:  [124.71735024] Accuracy:  50.5\n",
      "Cost:  [124.7169027] Accuracy:  50.7\n",
      "Cost:  [124.71680719] Accuracy:  50.5\n",
      "Cost:  [124.71588829] Accuracy:  50.5\n",
      "Cost:  [124.7165173] Accuracy:  50.4\n",
      "Cost:  [124.71654275] Accuracy:  50.3\n",
      "Cost:  [124.7153025] Accuracy:  50.3\n",
      "Cost:  [124.71537435] Accuracy:  50.4\n",
      "Cost:  [124.71579447] Accuracy:  50.4\n",
      "Cost:  [124.71562192] Accuracy:  50.3\n",
      "Cost:  [124.71588215] Accuracy:  50.3\n",
      "Cost:  [124.71508223] Accuracy:  50.4\n",
      "Cost:  [124.71464064] Accuracy:  50.5\n",
      "Cost:  [124.71467753] Accuracy:  50.5\n",
      "Cost:  [124.71508182] Accuracy:  50.7\n",
      "Cost:  [124.71464112] Accuracy:  50.5\n",
      "Cost:  [124.71480686] Accuracy:  50.5\n",
      "Cost:  [124.71494217] Accuracy:  50.4\n",
      "Cost:  [124.71511491] Accuracy:  50.3\n",
      "Cost:  [124.71473437] Accuracy:  50.3\n",
      "Cost:  [124.71395145] Accuracy:  50.4\n",
      "Cost:  [124.71399249] Accuracy:  50.4\n",
      "Cost:  [124.71437895] Accuracy:  50.4\n",
      "Cost:  [124.71379499] Accuracy:  50.7\n",
      "Cost:  [124.71355243] Accuracy:  50.5\n",
      "Cost:  [124.71385891] Accuracy:  50.5\n",
      "Cost:  [124.71374679] Accuracy:  50.5\n",
      "Cost:  [124.71406997] Accuracy:  50.5\n",
      "Cost:  [124.71400158] Accuracy:  50.7\n",
      "Cost:  [124.71386026] Accuracy:  50.5\n",
      "Cost:  [124.71382861] Accuracy:  50.5\n",
      "Cost:  [124.71295026] Accuracy:  50.5\n",
      "Cost:  [124.71375259] Accuracy:  50.7\n",
      "Cost:  [124.71357298] Accuracy:  50.5\n",
      "Cost:  [124.71282946] Accuracy:  50.4\n",
      "Cost:  [124.71276651] Accuracy:  50.5\n",
      "Cost:  [124.71279294] Accuracy:  50.4\n",
      "Cost:  [124.71246146] Accuracy:  50.3\n",
      "Cost:  [124.7125302] Accuracy:  50.3\n",
      "Cost:  [124.71231116] Accuracy:  50.4\n",
      "Cost:  [124.71249482] Accuracy:  50.3\n",
      "Cost:  [124.71231759] Accuracy:  50.3\n",
      "Cost:  [124.71212688] Accuracy:  50.4\n",
      "Cost:  [124.71204334] Accuracy:  50.3\n",
      "Cost:  [124.71236975] Accuracy:  50.4\n",
      "Cost:  [124.71230206] Accuracy:  50.3\n",
      "Cost:  [124.71219069] Accuracy:  50.5\n",
      "Cost:  [124.71180115] Accuracy:  50.4\n",
      "Cost:  [124.71174092] Accuracy:  50.5\n",
      "Cost:  [124.71181178] Accuracy:  50.5\n",
      "Cost:  [124.7116075] Accuracy:  50.5\n",
      "Cost:  [124.71169795] Accuracy:  50.3\n",
      "Cost:  [124.71166952] Accuracy:  50.7\n",
      "Cost:  [124.71154504] Accuracy:  50.5\n",
      "Cost:  [124.7116229] Accuracy:  50.7\n",
      "Cost:  [124.71153504] Accuracy:  50.3\n",
      "Cost:  [124.71123961] Accuracy:  50.4\n",
      "Cost:  [124.71142149] Accuracy:  50.3\n",
      "Cost:  [124.71116691] Accuracy:  50.4\n",
      "Cost:  [124.71135718] Accuracy:  50.3\n",
      "Cost:  [124.71103907] Accuracy:  50.4\n",
      "Cost:  [124.7112243] Accuracy:  50.3\n",
      "Cost:  [124.71117751] Accuracy:  50.4\n",
      "Cost:  [124.71085909] Accuracy:  50.5\n",
      "Cost:  [124.71095136] Accuracy:  50.5\n",
      "Cost:  [124.71101477] Accuracy:  50.5\n",
      "Cost:  [124.71076583] Accuracy:  50.5\n",
      "Cost:  [124.71064483] Accuracy:  50.5\n",
      "Cost:  [124.71090032] Accuracy:  50.5\n",
      "Cost:  [124.71054688] Accuracy:  50.5\n",
      "Cost:  [124.71072082] Accuracy:  50.4\n",
      "Cost:  [124.71061708] Accuracy:  50.3\n",
      "Cost:  [124.71040197] Accuracy:  50.4\n",
      "Cost:  [124.71053146] Accuracy:  50.3\n",
      "Cost:  [124.71031408] Accuracy:  50.4\n",
      "Cost:  [124.71033843] Accuracy:  50.5\n",
      "Cost:  [124.71045757] Accuracy:  50.5\n",
      "Cost:  [124.71029258] Accuracy:  50.5\n",
      "Cost:  [124.71020666] Accuracy:  50.5\n",
      "Cost:  [124.71009794] Accuracy:  50.5\n",
      "Cost:  [124.71001769] Accuracy:  50.4\n",
      "Cost:  [124.71013693] Accuracy:  50.3\n",
      "Cost:  [124.70995301] Accuracy:  50.4\n",
      "Cost:  [124.70990255] Accuracy:  50.5\n",
      "Cost:  [124.7099148] Accuracy:  50.5\n"
     ]
    }
   ],
   "source": [
    "W1,W2=train( X1, numInput=3, numHiddenUnits=5, numOutput=1, activationType=\"reLU\", numIter=10000)"
   ]
  },
  {
   "cell_type": "code",
   "execution_count": 345,
   "metadata": {},
   "outputs": [
    {
     "data": {
      "text/plain": [
       "array([[-2.50972002],\n",
       "       [ 0.2550181 ],\n",
       "       [-0.44761005],\n",
       "       [ 5.16341811]])"
      ]
     },
     "execution_count": 345,
     "metadata": {},
     "output_type": "execute_result"
    }
   ],
   "source": [
    "W2"
   ]
  },
  {
   "cell_type": "code",
   "execution_count": 485,
   "metadata": {},
   "outputs": [
    {
     "data": {
      "text/plain": [
       "array([[-0.20648576, -1.78991206,  1.        ,  0.        ,  0.        ,\n",
       "         0.        ],\n",
       "       [ 0.39509942, -1.432535  ,  1.        ,  0.        ,  0.        ,\n",
       "         0.        ],\n",
       "       [-1.75953934, -4.0071029 ,  1.        ,  0.        ,  0.        ,\n",
       "         0.        ],\n",
       "       ...,\n",
       "       [ 7.09059123,  4.17064029,  0.        ,  0.        ,  0.        ,\n",
       "         1.        ],\n",
       "       [ 8.05189328,  6.3005783 ,  0.        ,  0.        ,  0.        ,\n",
       "         1.        ],\n",
       "       [ 5.88051727,  5.98285663,  0.        ,  0.        ,  0.        ,\n",
       "         1.        ]])"
      ]
     },
     "execution_count": 485,
     "metadata": {},
     "output_type": "execute_result"
    }
   ],
   "source": [
    "X"
   ]
  },
  {
   "cell_type": "markdown",
   "metadata": {},
   "source": [
    "#### Simple NN with arbitrary num. of hidden neurons and arbitrary activation"
   ]
  },
  {
   "cell_type": "code",
   "execution_count": 488,
   "metadata": {},
   "outputs": [
    {
     "data": {
      "image/png": "[encoded data removed]",
      "text/plain": [
       "<Figure size 720x720 with 1 Axes>"
      ]
     },
     "metadata": {
      "needs_background": "light"
     },
     "output_type": "display_data"
    }
   ],
   "source": [
    "X = generateData(700, 'g',numClasses=2 , numOutputs=1, noise=0)"
   ]
  },
  {
   "cell_type": "code",
   "execution_count": 491,
   "metadata": {},
   "outputs": [
    {
     "name": "stdout",
     "output_type": "stream",
     "text": [
      "Cost:  [90.23419402] Accuracy:  50.0\n",
      "Cost:  [81.46691611] Accuracy:  50.0\n",
      "Cost:  [74.75953484] Accuracy:  53.42857142857142\n",
      "Cost:  [67.22756357] Accuracy:  68.85714285714286\n",
      "Cost:  [58.16409343] Accuracy:  85.14285714285714\n",
      "Cost:  [48.14837029] Accuracy:  93.42857142857143\n",
      "Cost:  [38.66444137] Accuracy:  97.42857142857143\n",
      "Cost:  [30.8294549] Accuracy:  98.57142857142858\n",
      "Cost:  [24.83457936] Accuracy:  98.85714285714286\n",
      "Cost:  [20.36981741] Accuracy:  98.85714285714286\n"
     ]
    }
   ],
   "source": [
    "W1,W2=train( X, numInput=2, numHiddenUnits=5, numOutput=1, activationType=\"S\", numIter=1000)"
   ]
  },
  {
   "cell_type": "code",
   "execution_count": 493,
   "metadata": {},
   "outputs": [
    {
     "data": {
      "text/plain": [
       "array([[-0.51636796, -0.63749999,  0.33964333, -1.2224939 ,  0.45225649],\n",
       "       [-0.83821329, -1.12046155,  1.03613927,  0.07694005, -0.33476741],\n",
       "       [-0.62130827,  0.34475657,  0.87406246,  0.11995982,  0.78339299]])"
      ]
     },
     "execution_count": 493,
     "metadata": {},
     "output_type": "execute_result"
    }
   ],
   "source": [
    "W1"
   ]
  },
  {
   "cell_type": "code",
   "execution_count": 494,
   "metadata": {},
   "outputs": [
    {
     "data": {
      "text/plain": [
       "array([[-0.71366984],\n",
       "       [-1.10666746],\n",
       "       [ 1.55297014],\n",
       "       [-0.57031657],\n",
       "       [ 0.5781205 ]])"
      ]
     },
     "execution_count": 494,
     "metadata": {},
     "output_type": "execute_result"
    }
   ],
   "source": [
    "W2"
   ]
  },
  {
   "cell_type": "code",
   "execution_count": 498,
   "metadata": {},
   "outputs": [
    {
     "name": "stdout",
     "output_type": "stream",
     "text": [
      "Cost:  [169.36888554] Accuracy:  19.428571428571427\n",
      "Cost:  [2.74753559] Accuracy:  99.57142857142857\n",
      "Cost:  [1.43513334] Accuracy:  99.57142857142857\n",
      "Cost:  [1.13321589] Accuracy:  99.57142857142857\n",
      "Cost:  [1.0093794] Accuracy:  99.71428571428571\n",
      "Cost:  [0.94445432] Accuracy:  99.71428571428571\n",
      "Cost:  [0.90567414] Accuracy:  99.71428571428571\n",
      "Cost:  [0.88073341] Accuracy:  99.71428571428571\n",
      "Cost:  [0.86380301] Accuracy:  99.71428571428571\n",
      "Cost:  [0.85180578] Accuracy:  99.71428571428571\n"
     ]
    }
   ],
   "source": [
    "W1,W2=train( X, numInput=2, numHiddenUnits=5, numOutput=1, activationType=\"R\", numIter=1000)"
   ]
  },
  {
   "cell_type": "markdown",
   "metadata": {},
   "source": [
    "#### NN Predict Function"
   ]
  },
  {
   "cell_type": "code",
   "execution_count": 499,
   "metadata": {},
   "outputs": [],
   "source": [
    "def predict(X_input, W1, W2, numInput=2, numHiddenUnits=5, numOutput=1, activationType=\"sigmoid\", verbosity=0 ):\n",
    "    if(verbosity==1):\n",
    "        print(\"Caclulating h..\")\n",
    "    h = apply_activation(activationType, X_input, W1)\n",
    "    y= apply_activation(activationType, h, W2)\n",
    "    if(verbosity==1):\n",
    "        print(\"Caclulating y..\")\n",
    "    return y"
   ]
  },
  {
   "cell_type": "code",
   "execution_count": 500,
   "metadata": {},
   "outputs": [
    {
     "name": "stdout",
     "output_type": "stream",
     "text": [
      "[0.81812956]\n",
      "[0.95953977]\n",
      "[0.21542398]\n",
      "[0.87514358]\n",
      "[0.15939763]\n",
      "[0.93654606]\n"
     ]
    }
   ],
   "source": [
    "print(predict([0,0,1],W1,W2))  \n",
    "print(predict([1.5,1.5,1],W1,W2))\n",
    "print(predict([-2,-2,1],W1,W2))\n",
    "print(predict([0.25,0.25,1],W1,W2))\n",
    "print(predict([-3,-2,1],W1,W2))\n",
    "print(predict([1.8,-0.25,1],W1,W2))"
   ]
  },
  {
   "cell_type": "code",
   "execution_count": 356,
   "metadata": {},
   "outputs": [
    {
     "name": "stdout",
     "output_type": "stream",
     "text": [
      "[5.10444936]\n",
      "[13.94552037]\n",
      "[0.]\n",
      "[6.5779612]\n",
      "[0.]\n",
      "[8.4817395]\n"
     ]
    }
   ],
   "source": [
    "print(predict([0,0,1],W1,W2,activationType=\"reLU\"))  \n",
    "print(predict([1.5,1.5,1],W1,W2,activationType=\"reLU\"))\n",
    "print(predict([-2,-2,1],W1,W2,activationType=\"reLU\"))\n",
    "print(predict([0.25,0.25,1],W1,W2,activationType=\"reLU\"))\n",
    "print(predict([-3,-2,1],W1,W2,activationType=\"reLU\"))\n",
    "print(predict([1.8,-0.25,1],W1,W2,activationType=\"reLU\"))"
   ]
  },
  {
   "cell_type": "markdown",
   "metadata": {},
   "source": [
    "Here Points with class 0 accurately predicted with reLU activation.\n",
    "\n",
    "### Q1 d)  Refactoring Model"
   ]
  },
  {
   "cell_type": "code",
   "execution_count": 582,
   "metadata": {},
   "outputs": [],
   "source": [
    "def squared_error(y,t):\n",
    "    ans = (0.5)* np.square(np.subtract(y, t))\n",
    "    return ans"
   ]
  },
  {
   "cell_type": "code",
   "execution_count": 587,
   "metadata": {},
   "outputs": [],
   "source": [
    "import sys\n",
    "class Model:\n",
    "    def __init__(self, numInputs=2, numOutputs=1, layerSize=4, numHiddenLayers=1, activationType='R'):\n",
    "        \n",
    "        #  numInputs: number of inputs to the net\n",
    "        #  numOuputs: number of output units in the output\n",
    "        #  layerSize: the number of units in each hidden layer\n",
    "        #  activationType: either ’L’ (linear), ’S’ (sigmoid), ’R’(reLU)\n",
    "        #  This is the activation type of all hidden layers.\n",
    "        #  Note that the output should automatically be a softmax layer if\n",
    "        #  numOutputs is greater than 1, and a sigmoid otherwise.\n",
    "        #  (So the default output is a single sigmoid unit).\n",
    "\n",
    "        self.numInputs = numInputs\n",
    "        self.numOutputs = numOutputs\n",
    "        self.layerSize = layerSize\n",
    "        self.numHiddenLayers = numHiddenLayers\n",
    "        self.activationType = activationType\n",
    "        if(activationType!='R' and activationType!='S' and activationType!='L'):\n",
    "            print(\"Invalid activation type!\")\n",
    "            print(\"Select among: R/S/L\")\n",
    "            sys.exit(1)\n",
    "            \n",
    "    \n",
    "    def initWeights(self,mean,stdev):\n",
    "        self.W1 = np.random.normal(mean, stdev, (self.numInputs+1, self.layerSize))\n",
    "        self.W2 = np.random.normal(mean, stdev, (self.layerSize, self.numOutputs))\n",
    "\n",
    "    def setInput(self,X):\n",
    "        X_inputs = X[:, :self.numInputs]\n",
    "        b = np.ones(len(X_inputs))\n",
    "        X_inputs = np.insert(X_inputs, self.numInputs, b, axis=1)\n",
    "        t = X[:, self.numInputs:]\n",
    "        labelshape= t.shape\n",
    "        \n",
    "        if(labelshape[1]!=self.numOutputs):\n",
    "            print(\"Num of output doesn't match number of labels provided. Retry.\")\n",
    "            sys.exit(1)\n",
    "            \n",
    "        self.X_inputs = X_inputs\n",
    "        self.t = t\n",
    "        \n",
    "    def setTest(self,X):\n",
    "        X_test = X[:, :self.numInputs]\n",
    "        b = np.ones(len(X_test))\n",
    "        X_test = np.insert(X_test, self.numInputs, b, axis=1)\n",
    "        t_test = X[:, self.numInputs:]\n",
    "        labelshape= t_test.shape\n",
    "        \n",
    "        if(labelshape[1]!=self.numOutputs):\n",
    "            print(\"Num of output doesn't match number of labels provided for Test data. Retry.\")\n",
    "            sys.exit(1)    \n",
    "        self.X_test = X_test\n",
    "        self.t_test = t_test\n",
    "        \n",
    "    def train(self,iterations, stepsize=1e-04):\n",
    "            \n",
    "        costs=[]\n",
    "        accuracies=[]\n",
    "        for j in range(iterations):\n",
    "            h = apply_activation( self.activationType , self.X_inputs, self.W1)\n",
    "            if self.numOutputs==1:\n",
    "                y = apply_activation(\"sigmoid\", h, self.W2)        \n",
    "            elif(self.numOutputs>1):\n",
    "                y = apply_activation(\"softmax\", h, self.W2)\n",
    "            error_list = []\n",
    "            if(self.numOutputs==1):\n",
    "                train_err = np.sum((0.5)* np.square(np.subtract(y, self.t)), axis=0)\n",
    "                error_list.append(train_err)\n",
    "                y_pred = np.rint(y)\n",
    "                correct=0\n",
    "                for i in range(len(self.t)):\n",
    "                    if(self.t[i]==y_pred[i]):\n",
    "                        correct+=1\n",
    "                        \n",
    "                accuracy = (correct/len(self.t)) *100\n",
    "                accuracies.append( accuracy )        \n",
    "                if( j%100==0 ):\n",
    "                    print(\"Cost: \",train_err, \"Accuracy: \",accuracy)\n",
    "                test_err = self._getTestError()\n",
    "                error_list.append(np.array(error_list))\n",
    "            \n",
    "            costs.append(error_list)\n",
    "            y_delta = (self.t - y) * find_derivative( self.activationType, y)\n",
    "            h_delta = np.dot(y_delta, self.W2.T) * find_derivative( self.activationType, h)\n",
    "            self.W2 += stepsize * np.dot( h.T, y_delta )\n",
    "            self.W1 += stepsize * np.dot( self.X_inputs.T, h_delta )\n",
    "              \n",
    "        return costs\n",
    "   \n",
    "    def _getTestError(self):\n",
    "        h = apply_activation( self.activationType , self.X_test, self.W1)\n",
    "        y = apply_activation(\"sigmoid\", h, self.W2)\n",
    "        test_err = np.sum((0.5)* np.square(np.subtract(y, self.t_test)), axis=0)\n",
    "        return test_err\n",
    "\n",
    "    def test(self):\n",
    "        # return the error on the test set\n",
    "        y= self.predict(self.X_test)        \n",
    "        sqf = np.vectorize(squared_error)\n",
    "        test_err = sqf(y, self.t_test)\n",
    "        print(\"test\",self.t_test)\n",
    "        print(\"y\",y)\n",
    "        return test_err\n",
    "    \n",
    "    def predict(self, X1):\n",
    "        # return the array of predictions for X1\n",
    "        h = apply_activation(self.activationType, X1, self.W1)\n",
    "        y= apply_activation(self.activationType, h, self.W2)\n",
    "        return y\n",
    "    "
   ]
  },
  {
   "cell_type": "code",
   "execution_count": 592,
   "metadata": {},
   "outputs": [
    {
     "name": "stdout",
     "output_type": "stream",
     "text": [
      "Cost:  [12.49872212] Accuracy:  85.0\n",
      "test [[1.]\n",
      " [0.]\n",
      " [0.]\n",
      " [0.]\n",
      " [0.]\n",
      " [0.]\n",
      " [1.]\n",
      " [1.]\n",
      " [0.]\n",
      " [1.]]\n",
      "y [[10.4528038 ]\n",
      " [ 0.        ]\n",
      " [ 0.        ]\n",
      " [ 0.        ]\n",
      " [ 0.        ]\n",
      " [ 0.        ]\n",
      " [12.65134221]\n",
      " [14.73862064]\n",
      " [ 0.        ]\n",
      " [12.91659587]]\n",
      "Predictions:\n",
      " [[3.46262271]\n",
      " [8.70701816]\n",
      " [0.        ]]\n"
     ]
    },
    {
     "data": {
      "image/png": "[encoded data removed]",
      "text/plain": [
       "<Figure size 720x720 with 1 Axes>"
      ]
     },
     "metadata": {
      "needs_background": "light"
     },
     "output_type": "display_data"
    }
   ],
   "source": [
    "X= generateData( 100, 'g', 2, 1 ) # use 2 gaussians to generate\n",
    "# 100 data points, with a single target value (0 or 1)\n",
    "np.random.shuffle(X) # make sure the examples are shuffled\n",
    "X_train = X[:90] # create a 90/10 train/test split\n",
    "X_test = X[90:]\n",
    "net = Model(numInputs=2, numOutputs=1, layerSize=5, numHiddenLayers=2, activationType='R')\n",
    "net.setInput(X)\n",
    "net.setTest(X_test)\n",
    "net.initWeights(0.0,0.01) # initialize weights with mean 0 and standard deviation 0.01\n",
    "trainError = net.train(100,0.1) # train for 100 iterations with a step size of 0.1, this\n",
    "# should return 100x2 array containing the training and test error at each of the 100\n",
    "# iterations\n",
    "testError = net.test() # return the error on the test set\n",
    "Y = net.predict(np.array([[0,0,1],[1,0,1],[-1,0,1]]))   #Note 1 is the bias\n",
    "print(\"Predictions:\\n\",Y)"
   ]
  },
  {
   "cell_type": "code",
   "execution_count": 593,
   "metadata": {},
   "outputs": [
    {
     "name": "stdout",
     "output_type": "stream",
     "text": [
      "[[array([12.49872212]), array([[12.49872212]])], [array([12.41789668]), array([[12.41789668]])], [array([8.10914779]), array([[8.10914779]])], [array([0.55043169]), array([[0.55043169]])], [array([0.00556696]), array([[0.00556696]])], [array([0.00346181]), array([[0.00346181]])], [array([0.00233597]), array([[0.00233597]])], [array([0.00167016]), array([[0.00167016]])], [array([0.0012467]), array([[0.0012467]])], [array([0.00096212]), array([[0.00096212]])]]\n"
     ]
    }
   ],
   "source": [
    "print(trainError[:10])"
   ]
  },
  {
   "cell_type": "code",
   "execution_count": 594,
   "metadata": {},
   "outputs": [
    {
     "data": {
      "text/plain": [
       "array([[44.67774985],\n",
       "       [ 0.        ],\n",
       "       [ 0.        ],\n",
       "       [ 0.        ],\n",
       "       [ 0.        ],\n",
       "       [ 0.        ],\n",
       "       [67.8768877 ],\n",
       "       [94.37484855],\n",
       "       [ 0.        ],\n",
       "       [71.00262857]])"
      ]
     },
     "execution_count": 594,
     "metadata": {},
     "output_type": "execute_result"
    }
   ],
   "source": [
    "testError # Error is zero where the prediction matches y_test"
   ]
  },
  {
   "cell_type": "markdown",
   "metadata": {},
   "source": [
    "#### Q 1 e) Allow variable hidden units"
   ]
  },
  {
   "cell_type": "code",
   "execution_count": 597,
   "metadata": {},
   "outputs": [
    {
     "name": "stdout",
     "output_type": "stream",
     "text": [
      "Cost:  [12.50344181] Accuracy:  50.0\n",
      "test [[1.]\n",
      " [1.]\n",
      " [1.]\n",
      " [0.]\n",
      " [0.]\n",
      " [1.]\n",
      " [1.]\n",
      " [1.]\n",
      " [1.]\n",
      " [0.]]\n",
      "y [[27.73381141]\n",
      " [10.52289686]\n",
      " [ 4.82105963]\n",
      " [ 0.        ]\n",
      " [ 0.        ]\n",
      " [27.04720566]\n",
      " [11.72799367]\n",
      " [29.90203458]\n",
      " [23.90891288]\n",
      " [ 0.        ]]\n",
      "Predictions:\n",
      " [[10.24935564]\n",
      " [13.08609765]\n",
      " [ 4.14058874]]\n"
     ]
    },
    {
     "data": {
      "image/png": "[encoded data removed]",
      "text/plain": [
       "<Figure size 720x720 with 1 Axes>"
      ]
     },
     "metadata": {
      "needs_background": "light"
     },
     "output_type": "display_data"
    }
   ],
   "source": [
    "net = Model(numInputs=2, numOutputs=1, layerSize=5, numHiddenLayers=2, activationType='R')\n",
    "#same as above but with 5 hidden units per layer\n",
    "\n",
    "X= generateData( 100, 'g', 2, 1 ) # use 2 gaussians to generate\n",
    "# 100 data points, with a single target value (0 or 1)\n",
    "\n",
    "np.random.shuffle(X) # make sure the examples are shuffled\n",
    "X_train = X[:90] # create a 90/10 train/test split\n",
    "X_test = X[90:]\n",
    "\n",
    "net.setInput(X)\n",
    "net.setTest(X_test)\n",
    "net.initWeights(0.0,0.01)\n",
    "\n",
    "trainError = net.train(100,0.1) \n",
    "testError = net.test() # return the error on the test set\n",
    "Y = net.predict(np.array([0,0,1])) \n",
    "Y = net.predict(np.array([[0,0,1],[1,0,1],[-1,0,1]]))   #Note 1 is the bias\n",
    "print(\"Predictions:\\n\",Y)"
   ]
  },
  {
   "cell_type": "code",
   "execution_count": 598,
   "metadata": {},
   "outputs": [
    {
     "name": "stdout",
     "output_type": "stream",
     "text": [
      "[[array([12.50344181]), array([[12.50344181]])], [array([12.56820675]), array([[12.56820675]])], [array([12.53967473]), array([[12.53967473]])], [array([2.24612395]), array([[2.24612395]])], [array([0.51115374]), array([[0.51115374]])], [array([0.39572718]), array([[0.39572718]])], [array([0.08998645]), array([[0.08998645]])], [array([0.0421325]), array([[0.0421325]])], [array([0.03932283]), array([[0.03932283]])], [array([0.03731256]), array([[0.03731256]])]]\n"
     ]
    }
   ],
   "source": [
    "print(trainError[:10])"
   ]
  },
  {
   "cell_type": "code",
   "execution_count": 599,
   "metadata": {},
   "outputs": [
    {
     "data": {
      "text/plain": [
       "array([[357.34833623],\n",
       "       [ 45.34278232],\n",
       "       [  7.30024834],\n",
       "       [  0.        ],\n",
       "       [  0.        ],\n",
       "       [339.22846139],\n",
       "       [ 57.54492405],\n",
       "       [417.66380143],\n",
       "       [262.40914473],\n",
       "       [  0.        ]])"
      ]
     },
     "execution_count": 599,
     "metadata": {},
     "output_type": "execute_result"
    }
   ],
   "source": [
    "testError"
   ]
  },
  {
   "cell_type": "markdown",
   "metadata": {},
   "source": [
    "#### Q 1 f) Allow all possible activation types"
   ]
  },
  {
   "cell_type": "code",
   "execution_count": 601,
   "metadata": {},
   "outputs": [
    {
     "name": "stdout",
     "output_type": "stream",
     "text": [
      "Cost:  [12.49958604] Accuracy:  50.0\n",
      "test [[0.]\n",
      " [0.]\n",
      " [1.]\n",
      " [0.]\n",
      " [1.]\n",
      " [1.]\n",
      " [0.]\n",
      " [0.]\n",
      " [1.]\n",
      " [1.]]\n",
      "y [[0.03730942]\n",
      " [0.11469052]\n",
      " [0.98044113]\n",
      " [0.03693631]\n",
      " [0.94541637]\n",
      " [0.9738551 ]\n",
      " [0.06247923]\n",
      " [0.04250567]\n",
      " [0.97971491]\n",
      " [0.98081351]]\n",
      "Predictions:\n",
      " [[0.88012194]\n",
      " [0.96997216]\n",
      " [0.30354986]]\n"
     ]
    },
    {
     "data": {
      "image/png": "[encoded data removed]",
      "text/plain": [
       "<Figure size 720x720 with 1 Axes>"
      ]
     },
     "metadata": {
      "needs_background": "light"
     },
     "output_type": "display_data"
    }
   ],
   "source": [
    "net = Model(numInputs=2, numOutputs=1, layerSize=2, numHiddenLayers=2, activationType='S')\n",
    "#same as above but with sigmoid hidden units\n",
    "\n",
    "X= generateData( 100, 'g', 2, 1 ) # use 2 gaussians to generate\n",
    "# 100 data points, with a single target value (0 or 1)\n",
    "\n",
    "np.random.shuffle(X) # make sure the examples are shuffled\n",
    "X_train = X[:90] # create a 90/10 train/test split\n",
    "X_test = X[90:]\n",
    "\n",
    "net.setInput(X)\n",
    "net.setTest(X_test)\n",
    "net.initWeights(0.0,0.01)\n",
    "\n",
    "trainError = net.train(100,0.1) \n",
    "testError = net.test() # return the error on the test set\n",
    "Y = net.predict(np.array([0,0,1])) \n",
    "Y = net.predict(np.array([[0,0,1],[1,0,1],[-1,0,1]]))   #Note 1 is the bias\n",
    "print(\"Predictions:\\n\",Y)"
   ]
  },
  {
   "cell_type": "code",
   "execution_count": 602,
   "metadata": {},
   "outputs": [
    {
     "name": "stdout",
     "output_type": "stream",
     "text": [
      "[[array([12.49958604]), array([[12.49958604]])], [array([12.49746628]), array([[12.49746628]])], [array([12.49362512]), array([[12.49362512]])], [array([12.48397154]), array([[12.48397154]])], [array([12.45953179]), array([[12.45953179]])], [array([12.39806239]), array([[12.39806239]])], [array([12.24799069]), array([[12.24799069]])], [array([11.9093671]), array([[11.9093671]])], [array([11.25642292]), array([[11.25642292]])], [array([10.24928468]), array([[10.24928468]])]]\n"
     ]
    }
   ],
   "source": [
    "print(trainError[:10])"
   ]
  },
  {
   "cell_type": "code",
   "execution_count": 603,
   "metadata": {},
   "outputs": [
    {
     "data": {
      "text/plain": [
       "array([[0.000696  ],\n",
       "       [0.00657696],\n",
       "       [0.00019127],\n",
       "       [0.00068215],\n",
       "       [0.00148969],\n",
       "       [0.00034178],\n",
       "       [0.00195183],\n",
       "       [0.00090337],\n",
       "       [0.00020574],\n",
       "       [0.00018406]])"
      ]
     },
     "execution_count": 603,
     "metadata": {},
     "output_type": "execute_result"
    }
   ],
   "source": [
    "testError"
   ]
  },
  {
   "cell_type": "markdown",
   "metadata": {},
   "source": [
    "#### Q1 g) Allow multiple output units"
   ]
  },
  {
   "cell_type": "markdown",
   "metadata": {},
   "source": [
    "#### REWRITING / UPDATING MODEL FOR REMAINING PORTIONS"
   ]
  },
  {
   "cell_type": "code",
   "execution_count": null,
   "metadata": {},
   "outputs": [],
   "source": [
    "def perClassEntropy(p,d):\n",
    "    np.divide"
   ]
  },
  {
   "cell_type": "code",
   "execution_count": 609,
   "metadata": {},
   "outputs": [],
   "source": [
    "class Model:\n",
    "    def __init__(self, numInputs=2, numOutputs=1, layerSize=4, numHiddenLayers=1, activationType='R'):\n",
    "        \n",
    "        #  numInputs: number of inputs to the net\n",
    "        #  numOuputs: number of output units in the output\n",
    "        #  layerSize: the number of units in each hidden layer\n",
    "        #  activationType: either ’L’ (linear), ’S’ (sigmoid), ’R’(reLU)\n",
    "        #  This is the activation type of all hidden layers.\n",
    "        #  Note that the output should automatically be a softmax layer if\n",
    "        #  numOutputs is greater than 1, and a sigmoid otherwise.\n",
    "        #  (So the default output is a single sigmoid unit).\n",
    "\n",
    "        self.numInputs = numInputs\n",
    "        self.numOutputs = numOutputs\n",
    "        self.layerSize = layerSize\n",
    "        self.numHiddenLayers = numHiddenLayers\n",
    "        self.activationType = activationType\n",
    "        if(activationType!='R' and activationType!='S' and activationType!='L'):\n",
    "            print(\"Invalid activation type!\")\n",
    "            print(\"Select among: R/S/L\")\n",
    "            sys.exit(1)\n",
    "            \n",
    "    \n",
    "    def initWeights(self,mean,stdev):\n",
    "        self.W1 = np.random.normal(mean, stdev, (self.numInputs+1, self.layerSize))\n",
    "        self.W2 = np.random.normal(mean, stdev, (self.layerSize, self.numOutputs))\n",
    "\n",
    "    def setInput(self,X):\n",
    "        X_inputs = X[:, :self.numInputs]\n",
    "        b = np.ones(len(X_inputs))\n",
    "        X_inputs = np.insert(X_inputs, self.numInputs, b, axis=1)\n",
    "        t = X[:, self.numInputs:]\n",
    "        labelshape= t.shape\n",
    "        \n",
    "        if(labelshape[1]!=self.numOutputs):\n",
    "            print(\"Num of output doesn't match number of labels provided. Retry.\")\n",
    "            sys.exit(1)\n",
    "            \n",
    "        self.X_inputs = X_inputs\n",
    "        self.t = t\n",
    "        \n",
    "    def setTest(self,X):\n",
    "        X_test = X[:, :self.numInputs]\n",
    "        b = np.ones(len(X_test))\n",
    "        X_test = np.insert(X_test, self.numInputs, b, axis=1)\n",
    "        t_test = X[:, self.numInputs:]\n",
    "        labelshape= t_test.shape\n",
    "        \n",
    "        if(labelshape[1]!=self.numOutputs):\n",
    "            print(\"Num of output doesn't match number of labels provided for Test data. Retry.\")\n",
    "            sys.exit(1)    \n",
    "        self.X_test = X_test\n",
    "        self.t_test = t_test\n",
    "        \n",
    "    def train(self,iterations, stepsize=1e-04):\n",
    "            \n",
    "        costs=[]\n",
    "        accuracies=[]\n",
    "        for j in range(iterations):\n",
    "            h = apply_activation( self.activationType , self.X_inputs, self.W1)\n",
    "            if self.numOutputs==1:\n",
    "                y = apply_activation(\"sigmoid\", h, self.W2)        \n",
    "            elif(self.numOutputs>1):\n",
    "                y = apply_activation(\"softmax\", h, self.W2)\n",
    "            \n",
    "            error_list = []\n",
    "            if(self.numOutputs==1):\n",
    "                train_err = np.sum((0.5)* np.square(np.subtract(y, self.t)), axis=0)\n",
    "                error_list.append(train_err)\n",
    "                y_pred = np.rint(y)\n",
    "                correct=0\n",
    "                for i in range(len(self.t)):\n",
    "                    if(self.t[i]==y_pred[i]):\n",
    "                        correct+=1\n",
    "                        \n",
    "                accuracy = (correct/len(self.t)) *100\n",
    "                accuracies.append( accuracy )        \n",
    "                if( j%100==0 ):\n",
    "                    print(\"Cost: \",train_err, \"Accuracy: \",accuracy)\n",
    "                test_err = self._getTestError()\n",
    "                error_list.append(np.array(error_list))\n",
    "            else:\n",
    "                #Cross Entropy error\n",
    "                cee=np.vectorize(cross_entropy)\n",
    "                error_matrix = cee(y,self.t)\n",
    "                error_per_class = np.sum(error_matrix, axis=1)\n",
    "                final_matrix= error_matrix/error_per_class[:,None]\n",
    "                error_list.append(final_matrix.sum(axis=1))\n",
    "            \n",
    "            costs.append(error_list)\n",
    "            y_delta = (self.t - y) * find_derivative( self.activationType, y)\n",
    "            h_delta = np.dot(y_delta, self.W2.T) * find_derivative( self.activationType, h)\n",
    "            self.W2 += stepsize * np.dot( h.T, y_delta )\n",
    "            self.W1 += stepsize * np.dot( self.X_inputs.T, h_delta )\n",
    "              \n",
    "        return costs\n",
    "   \n",
    "    def _getTestError(self):\n",
    "        h = apply_activation( self.activationType , self.X_test, self.W1)\n",
    "        y = apply_activation(\"sigmoid\", h, self.W2)\n",
    "        test_err = np.sum((0.5)* np.square(np.subtract(y, self.t_test)), axis=0)\n",
    "        return test_err\n",
    "\n",
    "    def test(self):\n",
    "        # return the error on the test set\n",
    "        y= self.predict(self.X_test)        \n",
    "        sqf = np.vectorize(squared_error)\n",
    "        test_err = sqf(y, self.t_test)\n",
    "        print(\"test\",self.t_test)\n",
    "        print(\"y\",y)\n",
    "        return test_err\n",
    "    \n",
    "    def predict(self, X1):\n",
    "        # return the array of predictions for X1\n",
    "        h = apply_activation(self.activationType, X1, self.W1)\n",
    "        y= apply_activation(self.activationType, h, self.W2)\n",
    "        return y\n",
    "    "
   ]
  },
  {
   "cell_type": "code",
   "execution_count": 610,
   "metadata": {},
   "outputs": [
    {
     "name": "stdout",
     "output_type": "stream",
     "text": [
      "test [[1. 0. 0.]\n",
      " [0. 0. 1.]\n",
      " [0. 1. 0.]\n",
      " [0. 0. 1.]\n",
      " [0. 1. 0.]\n",
      " [0. 1. 0.]\n",
      " [1. 0. 0.]\n",
      " [1. 0. 0.]\n",
      " [0. 0. 1.]\n",
      " [1. 0. 0.]\n",
      " [0. 1. 0.]\n",
      " [1. 0. 0.]]\n",
      "y [[0.9905387  0.90971493 0.01610135]\n",
      " [0.04142829 0.90286052 0.99152907]\n",
      " [0.54173234 0.97831332 0.85856878]\n",
      " [0.04379552 0.90528557 0.99108295]\n",
      " [0.61101559 0.98104583 0.82493434]\n",
      " [0.84570413 0.98373362 0.55021305]\n",
      " [0.99019133 0.9114638  0.01696145]\n",
      " [0.99110045 0.90643985 0.01471789]\n",
      " [0.04247736 0.90395788 0.99133124]\n",
      " [0.99096228 0.90699298 0.01502871]\n",
      " [0.76858473 0.98465983 0.6912589 ]\n",
      " [0.99101216 0.90687293 0.01492346]]\n",
      "Predictions:\n",
      " [[0.91070423 0.97854825 0.34146607]\n",
      " [0.81151818 0.98582172 0.63432988]\n",
      " [0.97774118 0.94638722 0.05598573]]\n"
     ]
    },
    {
     "data": {
      "image/png": "[encoded data removed]",
      "text/plain": [
       "<Figure size 720x720 with 1 Axes>"
      ]
     },
     "metadata": {
      "needs_background": "light"
     },
     "output_type": "display_data"
    }
   ],
   "source": [
    "net = Model(numInputs=2, numOutputs=3, layerSize=2, numHiddenLayers=2, activationType='S')\n",
    "#3 softmax output units\n",
    "X = generateData(100, 'g',numClasses=3 , numOutputs=3, noise=0)\n",
    "# use 2 gaussians to generate\n",
    "# 100 data points, with a single target value (0 or 1)\n",
    "\n",
    "np.random.shuffle(X) # make sure the examples are shuffled\n",
    "X_train = X[:90] # create a 90/10 train/test split\n",
    "X_test = X[90:]\n",
    "\n",
    "net.setInput(X)\n",
    "net.setTest(X_test)\n",
    "net.initWeights(0.0,0.01)\n",
    "\n",
    "trainError = net.train(100,0.1) \n",
    "testError = net.test() # return the error on the test set\n",
    "Y = net.predict(np.array([0,0,1])) \n",
    "Y = net.predict(np.array([[0,0,1],[1,0,1],[-1,0,1]]))   #Note 1 is the bias\n",
    "print(\"Predictions:\\n\",Y)"
   ]
  },
  {
   "cell_type": "code",
   "execution_count": 612,
   "metadata": {},
   "outputs": [
    {
     "name": "stdout",
     "output_type": "stream",
     "text": [
      "[[array([1., 1., 1., 1., 1., 1., 1., 1., 1., 1., 1., 1., 1., 1., 1., 1., 1.,\n",
      "       1., 1., 1., 1., 1., 1., 1., 1., 1., 1., 1., 1., 1., 1., 1., 1., 1.,\n",
      "       1., 1., 1., 1., 1., 1., 1., 1., 1., 1., 1., 1., 1., 1., 1., 1., 1.,\n",
      "       1., 1., 1., 1., 1., 1., 1., 1., 1., 1., 1., 1., 1., 1., 1., 1., 1.,\n",
      "       1., 1., 1., 1., 1., 1., 1., 1., 1., 1., 1., 1., 1., 1., 1., 1., 1.,\n",
      "       1., 1., 1., 1., 1., 1., 1., 1., 1., 1., 1., 1., 1., 1., 1., 1., 1.])], [array([1., 1., 1., 1., 1., 1., 1., 1., 1., 1., 1., 1., 1., 1., 1., 1., 1.,\n",
      "       1., 1., 1., 1., 1., 1., 1., 1., 1., 1., 1., 1., 1., 1., 1., 1., 1.,\n",
      "       1., 1., 1., 1., 1., 1., 1., 1., 1., 1., 1., 1., 1., 1., 1., 1., 1.,\n",
      "       1., 1., 1., 1., 1., 1., 1., 1., 1., 1., 1., 1., 1., 1., 1., 1., 1.,\n",
      "       1., 1., 1., 1., 1., 1., 1., 1., 1., 1., 1., 1., 1., 1., 1., 1., 1.,\n",
      "       1., 1., 1., 1., 1., 1., 1., 1., 1., 1., 1., 1., 1., 1., 1., 1., 1.])], [array([1., 1., 1., 1., 1., 1., 1., 1., 1., 1., 1., 1., 1., 1., 1., 1., 1.,\n",
      "       1., 1., 1., 1., 1., 1., 1., 1., 1., 1., 1., 1., 1., 1., 1., 1., 1.,\n",
      "       1., 1., 1., 1., 1., 1., 1., 1., 1., 1., 1., 1., 1., 1., 1., 1., 1.,\n",
      "       1., 1., 1., 1., 1., 1., 1., 1., 1., 1., 1., 1., 1., 1., 1., 1., 1.,\n",
      "       1., 1., 1., 1., 1., 1., 1., 1., 1., 1., 1., 1., 1., 1., 1., 1., 1.,\n",
      "       1., 1., 1., 1., 1., 1., 1., 1., 1., 1., 1., 1., 1., 1., 1., 1., 1.])]]\n"
     ]
    }
   ],
   "source": [
    "print(trainError[:3])"
   ]
  },
  {
   "cell_type": "code",
   "execution_count": 613,
   "metadata": {},
   "outputs": [
    {
     "data": {
      "text/plain": [
       "array([[4.47580842e-05, 4.13790629e-01, 1.29626771e-04],\n",
       "       [8.58151426e-04, 4.07578555e-01, 3.58783493e-05],\n",
       "       [1.46736967e-01, 2.35156038e-04, 3.68570178e-01],\n",
       "       [9.59023963e-04, 4.09770985e-01, 3.97568567e-05],\n",
       "       [1.86670028e-01, 1.79630235e-04, 3.40258333e-01],\n",
       "       [3.57607736e-01, 1.32297585e-04, 1.51367203e-01],\n",
       "       [4.81050422e-05, 4.15383125e-01, 1.43845427e-04],\n",
       "       [3.96009883e-05, 4.10816602e-01, 1.08308099e-04],\n",
       "       [9.02163098e-04, 4.08569929e-01, 3.75736859e-05],\n",
       "       [4.08401562e-05, 4.11318130e-01, 1.12931088e-04],\n",
       "       [2.95361240e-01, 1.17660392e-04, 2.38919435e-01],\n",
       "       [4.03906486e-05, 4.11209254e-01, 1.11354769e-04]])"
      ]
     },
     "execution_count": 613,
     "metadata": {},
     "output_type": "execute_result"
    }
   ],
   "source": [
    "testError"
   ]
  },
  {
   "cell_type": "code",
   "execution_count": null,
   "metadata": {},
   "outputs": [],
   "source": []
  }
 ],
 "metadata": {
  "kernelspec": {
   "display_name": "Python 3",
   "language": "python",
   "name": "python3"
  },
  "language_info": {
   "codemirror_mode": {
    "name": "ipython",
    "version": 3
   },
   "file_extension": ".py",
   "mimetype": "text/x-python",
   "name": "python",
   "nbconvert_exporter": "python",
   "pygments_lexer": "ipython3",
   "version": "3.7.2"
  }
 },
 "nbformat": 4,
 "nbformat_minor": 2
}
